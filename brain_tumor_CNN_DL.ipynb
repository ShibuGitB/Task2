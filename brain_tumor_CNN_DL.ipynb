{
  "nbformat": 4,
  "nbformat_minor": 0,
  "metadata": {
    "colab": {
      "provenance": [],
      "gpuType": "T4",
      "authorship_tag": "ABX9TyOJDZ9A9U58KeyGrKQIIOeT",
      "include_colab_link": true
    },
    "kernelspec": {
      "name": "python3",
      "display_name": "Python 3"
    },
    "language_info": {
      "name": "python"
    },
    "accelerator": "GPU"
  },
  "cells": [
    {
      "cell_type": "markdown",
      "metadata": {
        "id": "view-in-github",
        "colab_type": "text"
      },
      "source": [
        "<a href=\"https://colab.research.google.com/github/ShibuGitB/Task2/blob/main/brain_tumor_CNN_DL.ipynb\" target=\"_parent\"><img src=\"https://colab.research.google.com/assets/colab-badge.svg\" alt=\"Open In Colab\"/></a>"
      ]
    },
    {
      "cell_type": "code",
      "source": [
        "from google.colab import drive\n",
        "drive.mount('/content/drive')"
      ],
      "metadata": {
        "colab": {
          "base_uri": "https://localhost:8080/"
        },
        "id": "hhYXGHgtfEf8",
        "outputId": "eeb88e81-1ef2-4777-96fb-a8b33992f76e"
      },
      "execution_count": null,
      "outputs": [
        {
          "output_type": "stream",
          "name": "stdout",
          "text": [
            "Mounted at /content/drive\n"
          ]
        }
      ]
    },
    {
      "cell_type": "code",
      "source": [
        "import os\n",
        "from skimage.io import imread\n",
        "from skimage.transform import resize"
      ],
      "metadata": {
        "id": "rLseaUBfhl9Z"
      },
      "execution_count": null,
      "outputs": []
    },
    {
      "cell_type": "code",
      "source": [
        "trainingpath=\"/content/drive/MyDrive/Brain_Tumor/Training\"\n",
        "x_train=[]\n",
        "y_train=[]\n",
        "categories=[\"glioma\",\"meningioma\",\"notumor\",\"pituitary\"]\n",
        "\n",
        "for i in categories :\n",
        "\n",
        "  folderpath=os.path.join(trainingpath,i)\n",
        "  folderfiles=os.listdir(folderpath)\n",
        "\n",
        "  for j in folderfiles :\n",
        "\n",
        "    filepath=os.path.join(folderpath,j)\n",
        "    img=imread(filepath)\n",
        "    imgresize=resize(img,(150,150,1))\n",
        "    x_train.append(imgresize)\n",
        "    y_train.append(categories.index(i))"
      ],
      "metadata": {
        "id": "3-gbWyaehnoG"
      },
      "execution_count": null,
      "outputs": []
    },
    {
      "cell_type": "code",
      "source": [
        "testpath=\"/content/drive/MyDrive/Brain_Tumor/Testing\"\n",
        "x_test=[]\n",
        "y_test=[]\n",
        "categories=[\"glioma\",\"meningioma\",\"notumor\",\"pituitary\"]\n",
        "\n",
        "for i in categories :\n",
        "\n",
        "  folderpath=os.path.join(testpath,i)\n",
        "  filefiles=os.listdir(folderpath)\n",
        "\n",
        "  for j in filefiles :\n",
        "\n",
        "    filepath=os.path.join(folderpath,j)\n",
        "    img=imread(filepath)\n",
        "    imgresize=resize(img,(150,150,1))\n",
        "    x_test.append(imgresize)\n",
        "    y_test.append(categories.index(i))"
      ],
      "metadata": {
        "id": "9HJ1JFVTpYWw"
      },
      "execution_count": null,
      "outputs": []
    },
    {
      "cell_type": "code",
      "source": [
        "import numpy as np\n",
        "\n",
        "x_train=np.array(x_train)\n",
        "y_train=np.array(y_train)\n",
        "x_test=np.array(x_test)\n",
        "y_test=np.array(y_test)"
      ],
      "metadata": {
        "id": "BUyouV0Hr6ZL"
      },
      "execution_count": null,
      "outputs": []
    },
    {
      "cell_type": "code",
      "source": [
        "x_train.shape"
      ],
      "metadata": {
        "colab": {
          "base_uri": "https://localhost:8080/"
        },
        "id": "KAA4wNmBsXMG",
        "outputId": "e8e9495a-ca83-4b61-8290-0f7e8f643a8b"
      },
      "execution_count": null,
      "outputs": [
        {
          "output_type": "execute_result",
          "data": {
            "text/plain": [
              "(5529, 150, 150, 1)"
            ]
          },
          "metadata": {},
          "execution_count": 6
        }
      ]
    },
    {
      "cell_type": "code",
      "source": [
        "x_test.shape"
      ],
      "metadata": {
        "colab": {
          "base_uri": "https://localhost:8080/"
        },
        "id": "N_3Hgm7JsZrw",
        "outputId": "3b800572-4606-4ebe-c790-9aa952bcb249"
      },
      "execution_count": null,
      "outputs": [
        {
          "output_type": "execute_result",
          "data": {
            "text/plain": [
              "(1311, 150, 150, 1)"
            ]
          },
          "metadata": {},
          "execution_count": 7
        }
      ]
    },
    {
      "cell_type": "code",
      "source": [
        "from keras.models import Sequential\n",
        "q=Sequential()"
      ],
      "metadata": {
        "id": "NzX3EoK7p2op"
      },
      "execution_count": null,
      "outputs": []
    },
    {
      "cell_type": "code",
      "source": [
        "from keras.layers import Dense,Conv2D,MaxPool2D,Flatten\n",
        "\n",
        "q.add(Conv2D(32,(3,3),input_shape=(150,150,1),activation=\"relu\"))\n",
        "q.add(MaxPool2D(2,2))\n",
        "q.add(Flatten())\n",
        "q.add(Dense(100,activation=\"relu\"))\n",
        "q.add(Dense(4,activation=\"softmax\"))"
      ],
      "metadata": {
        "id": "yopHc_FgqRtZ"
      },
      "execution_count": null,
      "outputs": []
    },
    {
      "cell_type": "code",
      "source": [
        "q.compile(optimizer=\"adam\",loss=\"sparse_categorical_crossentropy\",metrics=[\"accuracy\"])"
      ],
      "metadata": {
        "id": "JwLo1Vn9ukQm"
      },
      "execution_count": null,
      "outputs": []
    },
    {
      "cell_type": "code",
      "source": [
        "q.fit(x_train,y_train,epochs=20,batch_size=10)"
      ],
      "metadata": {
        "colab": {
          "base_uri": "https://localhost:8080/"
        },
        "id": "3SNroqFKu3Qh",
        "outputId": "a86b1a1d-71b8-4eb5-9d0c-3afe36a1ac39"
      },
      "execution_count": null,
      "outputs": [
        {
          "output_type": "stream",
          "name": "stdout",
          "text": [
            "Epoch 1/20\n",
            "553/553 [==============================] - 10s 11ms/step - loss: 0.5668 - accuracy: 0.7936\n",
            "Epoch 2/20\n",
            "553/553 [==============================] - 6s 10ms/step - loss: 0.1731 - accuracy: 0.9376\n",
            "Epoch 3/20\n",
            "553/553 [==============================] - 5s 9ms/step - loss: 0.0610 - accuracy: 0.9814\n",
            "Epoch 4/20\n",
            "553/553 [==============================] - 6s 10ms/step - loss: 0.0349 - accuracy: 0.9902\n",
            "Epoch 5/20\n",
            "553/553 [==============================] - 5s 10ms/step - loss: 0.0150 - accuracy: 0.9960\n",
            "Epoch 6/20\n",
            "553/553 [==============================] - 5s 9ms/step - loss: 0.0134 - accuracy: 0.9962\n",
            "Epoch 7/20\n",
            "553/553 [==============================] - 5s 10ms/step - loss: 0.0173 - accuracy: 0.9957\n",
            "Epoch 8/20\n",
            "553/553 [==============================] - 5s 10ms/step - loss: 0.0402 - accuracy: 0.9881\n",
            "Epoch 9/20\n",
            "553/553 [==============================] - 5s 9ms/step - loss: 0.0229 - accuracy: 0.9926\n",
            "Epoch 10/20\n",
            "553/553 [==============================] - 6s 10ms/step - loss: 0.0036 - accuracy: 0.9993\n",
            "Epoch 11/20\n",
            "553/553 [==============================] - 5s 9ms/step - loss: 0.0116 - accuracy: 0.9966\n",
            "Epoch 12/20\n",
            "553/553 [==============================] - 5s 10ms/step - loss: 0.0108 - accuracy: 0.9969\n",
            "Epoch 13/20\n",
            "553/553 [==============================] - 5s 10ms/step - loss: 5.5448e-04 - accuracy: 1.0000\n",
            "Epoch 14/20\n",
            "553/553 [==============================] - 5s 10ms/step - loss: 1.1055e-04 - accuracy: 1.0000\n",
            "Epoch 15/20\n",
            "553/553 [==============================] - 6s 11ms/step - loss: 5.6191e-05 - accuracy: 1.0000\n",
            "Epoch 16/20\n",
            "553/553 [==============================] - 5s 9ms/step - loss: 3.8811e-05 - accuracy: 1.0000\n",
            "Epoch 17/20\n",
            "553/553 [==============================] - 5s 10ms/step - loss: 2.8199e-05 - accuracy: 1.0000\n",
            "Epoch 18/20\n",
            "553/553 [==============================] - 6s 10ms/step - loss: 2.1803e-05 - accuracy: 1.0000\n",
            "Epoch 19/20\n",
            "553/553 [==============================] - 5s 9ms/step - loss: 1.6514e-05 - accuracy: 1.0000\n",
            "Epoch 20/20\n",
            "553/553 [==============================] - 6s 10ms/step - loss: 1.2641e-05 - accuracy: 1.0000\n"
          ]
        },
        {
          "output_type": "execute_result",
          "data": {
            "text/plain": [
              "<keras.src.callbacks.History at 0x7ab8dff68d60>"
            ]
          },
          "metadata": {},
          "execution_count": 11
        }
      ]
    },
    {
      "cell_type": "code",
      "source": [
        "q.evaluate(x_test,y_test)"
      ],
      "metadata": {
        "colab": {
          "base_uri": "https://localhost:8080/"
        },
        "id": "6bLQrrZHvCeH",
        "outputId": "3c686793-a19c-4b94-aa91-036840128968"
      },
      "execution_count": null,
      "outputs": [
        {
          "output_type": "stream",
          "name": "stdout",
          "text": [
            "41/41 [==============================] - 0s 6ms/step - loss: 0.3649 - accuracy: 0.9535\n"
          ]
        },
        {
          "output_type": "execute_result",
          "data": {
            "text/plain": [
              "[0.36485904455184937, 0.9534706473350525]"
            ]
          },
          "metadata": {},
          "execution_count": 12
        }
      ]
    },
    {
      "cell_type": "code",
      "source": [
        "img=\"/content/drive/MyDrive/Brain_Tumor/Training/notumor/Tr-noTr_0002.jpg\"\n",
        "\n",
        "imgr=imread(img)\n",
        "imgrs=resize(imgr,(150,150,1))"
      ],
      "metadata": {
        "id": "r_LQP8J-vY_n"
      },
      "execution_count": null,
      "outputs": []
    },
    {
      "cell_type": "code",
      "source": [
        "imgrsp=imgrs.reshape(1,150,150,1)"
      ],
      "metadata": {
        "id": "R_zSBUbzvmnN"
      },
      "execution_count": null,
      "outputs": []
    },
    {
      "cell_type": "code",
      "source": [
        "l=q.predict(imgrsp)\n",
        "l"
      ],
      "metadata": {
        "colab": {
          "base_uri": "https://localhost:8080/"
        },
        "id": "_YlqOb9KvvOg",
        "outputId": "a378fcc6-1956-471d-a4d0-eff28858e6f4"
      },
      "execution_count": null,
      "outputs": [
        {
          "output_type": "stream",
          "name": "stdout",
          "text": [
            "1/1 [==============================] - 0s 17ms/step\n"
          ]
        },
        {
          "output_type": "execute_result",
          "data": {
            "text/plain": [
              "array([[5.4878036e-11, 5.3697640e-08, 1.0000000e+00, 6.0365124e-12]],\n",
              "      dtype=float32)"
            ]
          },
          "metadata": {},
          "execution_count": 19
        }
      ]
    },
    {
      "cell_type": "code",
      "source": [
        "o=l.argmax(axis=1)\n",
        "o"
      ],
      "metadata": {
        "colab": {
          "base_uri": "https://localhost:8080/"
        },
        "id": "Ae3fZBnOz-Aw",
        "outputId": "a1e19b26-d8a1-400b-ce7a-e4676a588cf7"
      },
      "execution_count": null,
      "outputs": [
        {
          "output_type": "execute_result",
          "data": {
            "text/plain": [
              "array([2])"
            ]
          },
          "metadata": {},
          "execution_count": 26
        }
      ]
    },
    {
      "cell_type": "code",
      "source": [
        "categories[o.item()]"
      ],
      "metadata": {
        "colab": {
          "base_uri": "https://localhost:8080/",
          "height": 36
        },
        "id": "rlG16_Aq03If",
        "outputId": "ac419e37-0319-4768-aae6-c12d81b949f5"
      },
      "execution_count": null,
      "outputs": [
        {
          "output_type": "execute_result",
          "data": {
            "text/plain": [
              "'notumor'"
            ],
            "application/vnd.google.colaboratory.intrinsic+json": {
              "type": "string"
            }
          },
          "metadata": {},
          "execution_count": 30
        }
      ]
    }
  ]
}